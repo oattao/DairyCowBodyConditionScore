{
 "cells": [
  {
   "cell_type": "code",
   "execution_count": 1,
   "metadata": {},
   "outputs": [],
   "source": [
    "import json\n",
    "import pandas as pd\n",
    "import numpy as np\n",
    "import matplotlib.pyplot as plt\n",
    "from sklearn.model_selection import train_test_split"
   ]
  },
  {
   "cell_type": "code",
   "execution_count": 2,
   "metadata": {},
   "outputs": [],
   "source": [
    "with open('./config.json', 'r') as fp:\n",
    "    config = json.load(fp)"
   ]
  },
  {
   "cell_type": "code",
   "execution_count": 3,
   "metadata": {},
   "outputs": [],
   "source": [
    "label_score_path = config['label_score_path']"
   ]
  },
  {
   "cell_type": "code",
   "execution_count": 4,
   "metadata": {},
   "outputs": [],
   "source": [
    "df = pd.read_csv(label_score_path)"
   ]
  },
  {
   "cell_type": "code",
   "execution_count": 5,
   "metadata": {},
   "outputs": [
    {
     "data": {
      "text/html": [
       "<div>\n",
       "<style scoped>\n",
       "    .dataframe tbody tr th:only-of-type {\n",
       "        vertical-align: middle;\n",
       "    }\n",
       "\n",
       "    .dataframe tbody tr th {\n",
       "        vertical-align: top;\n",
       "    }\n",
       "\n",
       "    .dataframe thead th {\n",
       "        text-align: right;\n",
       "    }\n",
       "</style>\n",
       "<table border=\"1\" class=\"dataframe\">\n",
       "  <thead>\n",
       "    <tr style=\"text-align: right;\">\n",
       "      <th></th>\n",
       "      <th>cow_regno</th>\n",
       "      <th>bcs</th>\n",
       "      <th>center_x</th>\n",
       "      <th>center_y</th>\n",
       "      <th>center_z</th>\n",
       "    </tr>\n",
       "  </thead>\n",
       "  <tbody>\n",
       "    <tr>\n",
       "      <th>0</th>\n",
       "      <td>500991129</td>\n",
       "      <td>2</td>\n",
       "      <td>3.034565e-15</td>\n",
       "      <td>-6.477803e-17</td>\n",
       "      <td>6.279123e-15</td>\n",
       "    </tr>\n",
       "    <tr>\n",
       "      <th>1</th>\n",
       "      <td>501034812</td>\n",
       "      <td>6</td>\n",
       "      <td>-3.640540e-15</td>\n",
       "      <td>1.784004e-16</td>\n",
       "      <td>-6.575080e-15</td>\n",
       "    </tr>\n",
       "    <tr>\n",
       "      <th>2</th>\n",
       "      <td>501049585</td>\n",
       "      <td>4</td>\n",
       "      <td>-3.093918e-16</td>\n",
       "      <td>-1.235133e-16</td>\n",
       "      <td>1.481373e-14</td>\n",
       "    </tr>\n",
       "    <tr>\n",
       "      <th>3</th>\n",
       "      <td>501049591</td>\n",
       "      <td>6</td>\n",
       "      <td>1.652057e-15</td>\n",
       "      <td>8.045727e-17</td>\n",
       "      <td>5.538417e-15</td>\n",
       "    </tr>\n",
       "    <tr>\n",
       "      <th>4</th>\n",
       "      <td>501051848</td>\n",
       "      <td>6</td>\n",
       "      <td>-1.594874e-15</td>\n",
       "      <td>-3.984945e-17</td>\n",
       "      <td>-3.381800e-15</td>\n",
       "    </tr>\n",
       "    <tr>\n",
       "      <th>...</th>\n",
       "      <td>...</td>\n",
       "      <td>...</td>\n",
       "      <td>...</td>\n",
       "      <td>...</td>\n",
       "      <td>...</td>\n",
       "    </tr>\n",
       "    <tr>\n",
       "      <th>398</th>\n",
       "      <td>501459358</td>\n",
       "      <td>5</td>\n",
       "      <td>3.732140e-15</td>\n",
       "      <td>-5.775412e-17</td>\n",
       "      <td>4.745069e-16</td>\n",
       "    </tr>\n",
       "    <tr>\n",
       "      <th>399</th>\n",
       "      <td>501459505</td>\n",
       "      <td>5</td>\n",
       "      <td>-1.037754e-15</td>\n",
       "      <td>9.051805e-16</td>\n",
       "      <td>3.923908e-16</td>\n",
       "    </tr>\n",
       "    <tr>\n",
       "      <th>400</th>\n",
       "      <td>501467130</td>\n",
       "      <td>5</td>\n",
       "      <td>2.767973e-15</td>\n",
       "      <td>8.623108e-16</td>\n",
       "      <td>1.875865e-15</td>\n",
       "    </tr>\n",
       "    <tr>\n",
       "      <th>401</th>\n",
       "      <td>501473986</td>\n",
       "      <td>5</td>\n",
       "      <td>-2.035976e-15</td>\n",
       "      <td>-1.074333e-16</td>\n",
       "      <td>-3.442861e-16</td>\n",
       "    </tr>\n",
       "    <tr>\n",
       "      <th>402</th>\n",
       "      <td>501526152</td>\n",
       "      <td>5</td>\n",
       "      <td>4.704168e-16</td>\n",
       "      <td>-3.628468e-17</td>\n",
       "      <td>8.606661e-15</td>\n",
       "    </tr>\n",
       "  </tbody>\n",
       "</table>\n",
       "<p>403 rows × 5 columns</p>\n",
       "</div>"
      ],
      "text/plain": [
       "     cow_regno  bcs      center_x      center_y      center_z\n",
       "0    500991129    2  3.034565e-15 -6.477803e-17  6.279123e-15\n",
       "1    501034812    6 -3.640540e-15  1.784004e-16 -6.575080e-15\n",
       "2    501049585    4 -3.093918e-16 -1.235133e-16  1.481373e-14\n",
       "3    501049591    6  1.652057e-15  8.045727e-17  5.538417e-15\n",
       "4    501051848    6 -1.594874e-15 -3.984945e-17 -3.381800e-15\n",
       "..         ...  ...           ...           ...           ...\n",
       "398  501459358    5  3.732140e-15 -5.775412e-17  4.745069e-16\n",
       "399  501459505    5 -1.037754e-15  9.051805e-16  3.923908e-16\n",
       "400  501467130    5  2.767973e-15  8.623108e-16  1.875865e-15\n",
       "401  501473986    5 -2.035976e-15 -1.074333e-16 -3.442861e-16\n",
       "402  501526152    5  4.704168e-16 -3.628468e-17  8.606661e-15\n",
       "\n",
       "[403 rows x 5 columns]"
      ]
     },
     "execution_count": 5,
     "metadata": {},
     "output_type": "execute_result"
    }
   ],
   "source": [
    "df"
   ]
  },
  {
   "cell_type": "code",
   "execution_count": 6,
   "metadata": {},
   "outputs": [],
   "source": [
    "dftrain, dftest = train_test_split(df, test_size=0.1,\n",
    "                                    # stratify=df[['bcs']]\n",
    "                                    )"
   ]
  },
  {
   "cell_type": "code",
   "execution_count": 24,
   "metadata": {},
   "outputs": [
    {
     "data": {
      "text/plain": [
       "5    184\n",
       "6    116\n",
       "4     58\n",
       "7     30\n",
       "3      9\n",
       "2      3\n",
       "1      2\n",
       "8      1\n",
       "Name: bcs, dtype: int64"
      ]
     },
     "execution_count": 24,
     "metadata": {},
     "output_type": "execute_result"
    }
   ],
   "source": [
    "df['bcs'].value_counts()"
   ]
  },
  {
   "cell_type": "code",
   "execution_count": 41,
   "metadata": {},
   "outputs": [
    {
     "data": {
      "text/plain": [
       "<AxesSubplot:ylabel='Frequency'>"
      ]
     },
     "execution_count": 41,
     "metadata": {},
     "output_type": "execute_result"
    },
    {
     "data": {
      "image/png": "[encoded data removed]",
      "text/plain": [
       "<Figure size 1440x360 with 3 Axes>"
      ]
     },
     "metadata": {
      "needs_background": "light"
     },
     "output_type": "display_data"
    }
   ],
   "source": [
    "dftrain, dftest = train_test_split(df, test_size=0.15)\n",
    "plt.figure(figsize=(20, 5))\n",
    "ax1 = plt.subplot(1, 3, 1)\n",
    "df['bcs'].plot(kind='hist', bins=10, sharey=ax1)\n",
    "ax2 = plt.subplot(1, 3, 2)\n",
    "dftrain['bcs'].plot(kind='hist', bins=10)\n",
    "ax3 = plt.subplot(1, 3, 3)\n",
    "dftest['bcs'].plot(kind='hist', bins=10, sharey=ax1)"
   ]
  },
  {
   "cell_type": "code",
   "execution_count": 42,
   "metadata": {},
   "outputs": [],
   "source": [
    "dftrain['type'] = 'train'\n",
    "dftest['type'] = 'test'\n",
    "df = pd.concat([dftrain, dftest], ignore_index=True)\n",
    "df.to_csv(label_score_path, index=False)"
   ]
  }
 ],
 "metadata": {
  "kernelspec": {
   "display_name": "tenv",
   "language": "python",
   "name": "python3"
  },
  "language_info": {
   "codemirror_mode": {
    "name": "ipython",
    "version": 3
   },
   "file_extension": ".py",
   "mimetype": "text/x-python",
   "name": "python",
   "nbconvert_exporter": "python",
   "pygments_lexer": "ipython3",
   "version": "3.8.13"
  }
 },
 "nbformat": 4,
 "nbformat_minor": 2
}
