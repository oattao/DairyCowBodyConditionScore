{
 "cells": [
  {
   "cell_type": "code",
   "execution_count": 1,
   "metadata": {},
   "outputs": [],
   "source": [
    "import pandas as pd\n",
    "from sklearn.metrics import mean_absolute_error, mean_absolute_percentage_error, mean_squared_error"
   ]
  },
  {
   "cell_type": "code",
   "execution_count": 2,
   "metadata": {},
   "outputs": [
    {
     "data": {
      "text/html": [
       "<div>\n",
       "<style scoped>\n",
       "    .dataframe tbody tr th:only-of-type {\n",
       "        vertical-align: middle;\n",
       "    }\n",
       "\n",
       "    .dataframe tbody tr th {\n",
       "        vertical-align: top;\n",
       "    }\n",
       "\n",
       "    .dataframe thead th {\n",
       "        text-align: right;\n",
       "    }\n",
       "</style>\n",
       "<table border=\"1\" class=\"dataframe\">\n",
       "  <thead>\n",
       "    <tr style=\"text-align: right;\">\n",
       "      <th></th>\n",
       "      <th>cow_regno</th>\n",
       "      <th>true_bcs</th>\n",
       "      <th>byview_naive</th>\n",
       "      <th>byview_head</th>\n",
       "      <th>byview_tail</th>\n",
       "      <th>byview_left</th>\n",
       "      <th>byview_right</th>\n",
       "      <th>byview_center</th>\n",
       "      <th>byview_full</th>\n",
       "      <th>byview_depth-vgg</th>\n",
       "      <th>byview_depth-eff</th>\n",
       "      <th>byview_cow</th>\n",
       "    </tr>\n",
       "  </thead>\n",
       "  <tbody>\n",
       "    <tr>\n",
       "      <th>0</th>\n",
       "      <td>501493893</td>\n",
       "      <td>3</td>\n",
       "      <td>4</td>\n",
       "      <td>5</td>\n",
       "      <td>4</td>\n",
       "      <td>4</td>\n",
       "      <td>5</td>\n",
       "      <td>4</td>\n",
       "      <td>4</td>\n",
       "      <td>5</td>\n",
       "      <td>6</td>\n",
       "      <td>4</td>\n",
       "    </tr>\n",
       "  </tbody>\n",
       "</table>\n",
       "</div>"
      ],
      "text/plain": [
       "   cow_regno  true_bcs  byview_naive  byview_head  byview_tail  byview_left  \\\n",
       "0  501493893         3             4            5            4            4   \n",
       "\n",
       "   byview_right  byview_center  byview_full  byview_depth-vgg  \\\n",
       "0             5              4            4                 5   \n",
       "\n",
       "   byview_depth-eff  byview_cow  \n",
       "0                 6           4  "
      ]
     },
     "execution_count": 2,
     "metadata": {},
     "output_type": "execute_result"
    }
   ],
   "source": [
    "df = pd.read_csv('./log/prediction.csv')\n",
    "df.head(1)"
   ]
  },
  {
   "cell_type": "code",
   "execution_count": 6,
   "metadata": {},
   "outputs": [],
   "source": [
    "views = ['cow', 'naive', 'depth-vgg', 'depth-eff', 'left']"
   ]
  },
  {
   "cell_type": "code",
   "execution_count": 7,
   "metadata": {},
   "outputs": [
    {
     "name": "stdout",
     "output_type": "stream",
     "text": [
      " & 1.00 & 0.74 & 15.33\n",
      " & 0.92 & 0.69 & 14.68\n",
      " & 0.93 & 0.67 & 15.59\n",
      " & 1.10 & 0.79 & 18.65\n",
      " & 0.77 & 0.49 & 11.19\n"
     ]
    }
   ],
   "source": [
    "for v in views:\n",
    "    rmse = mean_squared_error(df['true_bcs'], df[f'byview_{v}'])**0.5\n",
    "    mae = mean_absolute_error(df['true_bcs'], df[f'byview_{v}'])\n",
    "    mape = mean_absolute_percentage_error(df['true_bcs'], df[f'byview_{v}'])*100\n",
    "    print(f\" & {rmse:.2f} & {mae:.2f} & {mape:.2f}\")"
   ]
  }
 ],
 "metadata": {
  "kernelspec": {
   "display_name": "tenv",
   "language": "python",
   "name": "python3"
  },
  "language_info": {
   "codemirror_mode": {
    "name": "ipython",
    "version": 3
   },
   "file_extension": ".py",
   "mimetype": "text/x-python",
   "name": "python",
   "nbconvert_exporter": "python",
   "pygments_lexer": "ipython3",
   "version": "3.8.17"
  }
 },
 "nbformat": 4,
 "nbformat_minor": 2
}
